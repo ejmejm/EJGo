{
 "cells": [
  {
   "cell_type": "code",
   "execution_count": 1,
   "metadata": {
    "collapsed": true
   },
   "outputs": [],
   "source": [
    "import numpy as np\n",
    "import global_vars_go as gvg\n",
    "\n",
    "# def switch_player_perspec(arry):\n",
    "#     arry = arry.reshape(gvg.board_size, gvg.board_size, gvg.board_channels)\n",
    "#     for i in range(len(arry)):\n",
    "#         for j in range(len(arry[i])):\n",
    "#             tmp = arry[i][j][gvg.player_channel]\n",
    "#             arry[i][j][gvg.player_channel] = arry[i][j][gvg.bot_channel]\n",
    "#             arry[i][j][gvg.bot_channel] = tmp\n",
    "#     return arry\n",
    "\n",
    "def setup_board(game):\n",
    "    preboard, plays = sgf_moves.get_setup_and_moves(game)\n",
    "    rpreboard = preboard.board\n",
    "    board = np.zeros((gvg.board_size, gvg.board_size))\n",
    "    if len(plays) < 1: # Return an empty board if the game has no moves\n",
    "        return board\n",
    "    if plays[0][0] == \"b\":\n",
    "        color_stone = gvg.bot_in\n",
    "    else:\n",
    "        color_stone = gvg.player_in\n",
    "    for i in range(len(rpreboard)):\n",
    "        for j in range(len(rpreboard[i])):\n",
    "            if rpreboard[i][j] == \"b\":\n",
    "                board[i][j] = color_stone\n",
    "\n",
    "    return board"
   ]
  },
  {
   "cell_type": "code",
   "execution_count": 2,
   "metadata": {
    "scrolled": true
   },
   "outputs": [
    {
     "name": "stdout",
     "output_type": "stream",
     "text": [
      "Loading game data...\n",
      "Done loading games\n"
     ]
    }
   ],
   "source": [
    "import glob\n",
    "import os\n",
    "import sys\n",
    "from sgfmill.sgfmill import sgf, sgf_moves\n",
    "import numpy\n",
    "import board as go_board\n",
    "\n",
    "num_games = 3000\n",
    "kifuPath = \"../kifu/\"\n",
    "\n",
    "print(\"Loading game data...\")\n",
    "\n",
    "X = []\n",
    "Y = []\n",
    "\n",
    "i = 0\n",
    "for filename in glob.glob(os.path.join(kifuPath, \"*.sgf\")):\n",
    "    if i < num_games:\n",
    "        with open(filename, \"rb\") as f:\n",
    "            game = sgf.Sgf_game.from_bytes(f.read())\n",
    "            board = setup_board(game)\n",
    "            for node in game.get_main_sequence():\n",
    "                board = -board\n",
    "                node_move = node.get_move()[1]\n",
    "                if node_move is not None:\n",
    "                    X.append(np.copy(board))\n",
    "                    move_board = np.zeros((19, 19))\n",
    "                    move_board[node_move[0]][node_move[1]] = 1\n",
    "                    Y.append(move_board)\n",
    "                    board = go_board.make_move(board, node_move, gvg.bot_in, gvg.player_in, True)\n",
    "    i += 1\n",
    "\n",
    "X = np.array(X).reshape(-1, 19, 19, 1)\n",
    "Y = np.array(Y).reshape(-1, 19 * 19)\n",
    "testX = X[-4000:]\n",
    "testY = Y[-4000:]\n",
    "X = X[:-4000]\n",
    "Y = Y[:-4000]\n",
    "\n",
    "print(\"Done loading games\")"
   ]
  },
  {
   "cell_type": "code",
   "execution_count": 3,
   "metadata": {
    "collapsed": true
   },
   "outputs": [],
   "source": [
    "# Source: https://github.com/tflearn/tflearn/blob/master/examples/images/convnet_mnist.py\n",
    "\n",
    "# # -*- coding: utf-8 -*-\n",
    "\n",
    "# \"\"\" Convolutional Neural Network for MNIST dataset classification task.\n",
    "\n",
    "# References:\n",
    "#     Y. LeCun, L. Bottou, Y. Bengio, and P. Haffner. \"Gradient-based\n",
    "#     learning applied to document recognition.\" Proceedings of the IEEE,\n",
    "#     86(11):2278-2324, November 1998.\n",
    "\n",
    "# Links:\n",
    "#     [MNIST Dataset] http://yann.lecun.com/exdb/mnist/\n",
    "\n",
    "# \"\"\"\n",
    "\n",
    "# from __future__ import division, print_function, absolute_import\n",
    "\n",
    "import tflearn\n",
    "from tflearn.layers.core import input_data, dropout, fully_connected\n",
    "from tflearn.layers.conv import conv_2d, max_pool_2d\n",
    "from tflearn.layers.normalization import local_response_normalization\n",
    "from tflearn.layers.estimator import regression\n",
    "\n",
    "# Building convolutional network\n",
    "network = input_data(shape=[None, 19, 19, 1], name='input')\n",
    "network = conv_2d(network, 32, 3, activation='relu', regularizer=\"L2\")\n",
    "#network = max_pool_2d(network, 2)\n",
    "#network = local_response_normalization(network)\n",
    "network = conv_2d(network, 64, 3, activation='relu', regularizer=\"L2\")\n",
    "#network = max_pool_2d(network, 2)\n",
    "#network = local_response_normalization(network)\n",
    "network = fully_connected(network, 128, activation='tanh')\n",
    "network = dropout(network, 0.8)\n",
    "network = fully_connected(network, 256, activation='tanh')\n",
    "network = dropout(network, 0.5)\n",
    "network = fully_connected(network, 19*19, activation='softmax')\n",
    "network = regression(network, optimizer='adam', learning_rate=0.001,\n",
    "                     loss='categorical_crossentropy', name='target')"
   ]
  },
  {
   "cell_type": "code",
   "execution_count": 4,
   "metadata": {
    "scrolled": true
   },
   "outputs": [
    {
     "name": "stdout",
     "output_type": "stream",
     "text": [
      "Training Step: 27851  | total loss: \u001b[1m\u001b[32m4.22074\u001b[0m\u001b[0m | time: 163.748s\n",
      "| Adam | epoch: 003 | loss: 4.22074 - acc: 0.1791 -- iter: 594112/594141\n",
      "Training Step: 27852  | total loss: \u001b[1m\u001b[32m4.25405\u001b[0m\u001b[0m | time: 164.782s\n",
      "| Adam | epoch: 003 | loss: 4.25405 - acc: 0.1706 | val_loss: 4.45226 - val_acc: 0.1583 -- iter: 594141/594141\n",
      "--\n",
      "INFO:tensorflow:C:\\Users\\Edan\\Desktop\\GoHeuristics\\tflearnImplementation\\checkpoints\\convnet_snap.ckpt-27852 is not in all_model_checkpoint_paths. Manually adding it.\n",
      "INFO:tensorflow:C:\\Users\\Edan\\Desktop\\GoHeuristics\\tflearnImplementation\\checkpoints\\convnet_snap.ckpt-27852 is not in all_model_checkpoint_paths. Manually adding it.\n"
     ]
    }
   ],
   "source": [
    "# Training1\n",
    "model = tflearn.DNN(network, tensorboard_verbose=0, checkpoint_path=\"checkpoints/convnet_snap.ckpt\")\n",
    "model.fit({'input': X}, {'target': Y}, n_epoch=3,\n",
    "           validation_set=({'input': testX}, {'target': testY}),\n",
    "           snapshot_step=3000, show_metric=True, run_id='convnet_go')"
   ]
  },
  {
   "cell_type": "code",
   "execution_count": null,
   "metadata": {},
   "outputs": [
    {
     "name": "stdout",
     "output_type": "stream",
     "text": [
      "Loading game data...\n"
     ]
    }
   ],
   "source": [
    "import glob\n",
    "import os\n",
    "import sys\n",
    "from sgfmill.sgfmill import sgf, sgf_moves\n",
    "import numpy\n",
    "import board as go_board\n",
    "\n",
    "num_games_test = 500\n",
    "kifuPath = \"../kifu/\"\n",
    "\n",
    "print(\"Loading game data...\")\n",
    "\n",
    "X2 = []\n",
    "Y2 = []\n",
    "\n",
    "i = 0\n",
    "for filename in glob.glob(os.path.join(kifuPath, \"*.sgf\")):\n",
    "    if num_games < i < num_games + num_games_test:\n",
    "        with open(filename, \"rb\") as f:\n",
    "            game = sgf.Sgf_game.from_bytes(f.read())\n",
    "            board = setup_board(game)\n",
    "            for node in game.get_main_sequence():\n",
    "                board = -board\n",
    "                node_move = node.get_move()[1]\n",
    "                if node_move is not None:\n",
    "                    X2.append(np.copy(board))\n",
    "                    move_board = np.zeros((gvg.board_size, gvg.board_size))\n",
    "                    move_board[node_move[0]][node_move[1]] = gvg.filled\n",
    "                    Y2.append(move_board)\n",
    "                    board = go_board.make_move(board, node_move, gvg.bot_in, gvg.player_in, True)\n",
    "    i += 1\n",
    "\n",
    "X2 = np.array(X2).reshape(-1, 19, 19, 1)\n",
    "Y2 = np.array(Y2).reshape(-1, 19 * 19)\n",
    "\n",
    "print(\"Done loading games\")"
   ]
  },
  {
   "cell_type": "code",
   "execution_count": null,
   "metadata": {
    "collapsed": true
   },
   "outputs": [],
   "source": [
    "model.evaluate(X2, Y2)"
   ]
  }
 ],
 "metadata": {
  "kernelspec": {
   "display_name": "Python 3",
   "language": "python",
   "name": "python3"
  },
  "language_info": {
   "codemirror_mode": {
    "name": "ipython",
    "version": 3
   },
   "file_extension": ".py",
   "mimetype": "text/x-python",
   "name": "python",
   "nbconvert_exporter": "python",
   "pygments_lexer": "ipython3",
   "version": "3.5.0"
  }
 },
 "nbformat": 4,
 "nbformat_minor": 2
}
